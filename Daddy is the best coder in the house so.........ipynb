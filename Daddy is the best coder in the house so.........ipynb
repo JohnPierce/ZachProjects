{
 "cells": [
  {
   "cell_type": "code",
   "execution_count": 25,
   "metadata": {},
   "outputs": [],
   "source": [
    "import numpy as np\n",
    "import math as math"
   ]
  },
  {
   "cell_type": "code",
   "execution_count": 2,
   "metadata": {},
   "outputs": [
    {
     "name": "stdout",
     "output_type": "stream",
     "text": [
      "11\n"
     ]
    }
   ],
   "source": [
    "zoe = 11\n",
    "print(zoe)"
   ]
  },
  {
   "cell_type": "code",
   "execution_count": 8,
   "metadata": {},
   "outputs": [],
   "source": [
    "def poop(n):\n",
    "    if n <= 0:\n",
    "        print(\" number not valid, I only accept numbers starting from 1\")\n",
    "        return 0\n",
    "    elif 0 < n < 3:\n",
    "        Zoe=1\n",
    "    else:\n",
    "        Zoe= poop(n-1) + poop(n-2) \n",
    "    return Zoe\n",
    "    "
   ]
  },
  {
   "cell_type": "code",
   "execution_count": 12,
   "metadata": {
    "scrolled": true
   },
   "outputs": [
    {
     "name": "stdout",
     "output_type": "stream",
     "text": [
      "1\n",
      " number not valid, I only accept numbers starting from 1\n",
      "0 :  0\n",
      "1 :  1\n",
      "2 :  1\n",
      "3 :  2\n",
      "4 :  3\n",
      "5 :  5\n",
      "6 :  8\n",
      "7 :  13\n",
      "8 :  21\n",
      "9 :  34\n",
      "10 :  55\n",
      "11 :  89\n",
      "12 :  144\n",
      "13 :  233\n",
      "14 :  377\n",
      "15 :  610\n",
      "16 :  987\n",
      "17 :  1597\n",
      "18 :  2584\n",
      "19 :  4181\n",
      "20 :  6765\n",
      "21 :  10946\n",
      "22 :  17711\n",
      "23 :  28657\n",
      "24 :  46368\n",
      "25 :  75025\n",
      "26 :  121393\n",
      "27 :  196418\n",
      "28 :  317811\n",
      "29 :  514229\n"
     ]
    }
   ],
   "source": [
    "fart= poop (1) \n",
    "print (fart)\n",
    "x = range(30)\n",
    "for i in x:\n",
    "    fart = poop(i)\n",
    "    print(i, \": \",fart)"
   ]
  },
  {
   "cell_type": "code",
   "execution_count": 13,
   "metadata": {},
   "outputs": [],
   "source": [
    "def poopn(n):\n",
    "    zoe = {}\n",
    "    for k in range(1, n+1):\n",
    "        if k <= 2:\n",
    "            f=1\n",
    "        else:\n",
    "            f = zoe[k-1]+zoe[k-2]\n",
    "        zoe[k]=f\n",
    "    return zoe[n]"
   ]
  },
  {
   "cell_type": "code",
   "execution_count": 14,
   "metadata": {},
   "outputs": [
    {
     "name": "stdout",
     "output_type": "stream",
     "text": [
      "{}\n"
     ]
    }
   ],
   "source": [
    "zoe = {}\n",
    "print(zoe)\n"
   ]
  },
  {
   "cell_type": "code",
   "execution_count": 15,
   "metadata": {},
   "outputs": [
    {
     "name": "stdout",
     "output_type": "stream",
     "text": [
      "{1: 5}\n"
     ]
    }
   ],
   "source": [
    "zoe[1] = 5\n",
    "print(zoe)\n"
   ]
  },
  {
   "cell_type": "code",
   "execution_count": 16,
   "metadata": {},
   "outputs": [
    {
     "name": "stdout",
     "output_type": "stream",
     "text": [
      "47255\n"
     ]
    }
   ],
   "source": [
    "zoe = 5 + 7875*6\n",
    "print(zoe)"
   ]
  },
  {
   "cell_type": "code",
   "execution_count": 18,
   "metadata": {},
   "outputs": [
    {
     "name": "stdout",
     "output_type": "stream",
     "text": [
      "8\n"
     ]
    }
   ],
   "source": [
    "zoe = poopn(6)\n",
    "print(zoe)"
   ]
  },
  {
   "cell_type": "code",
   "execution_count": 19,
   "metadata": {},
   "outputs": [
    {
     "name": "stdout",
     "output_type": "stream",
     "text": [
      "23416728348467685\n"
     ]
    }
   ],
   "source": [
    "zoe = poopn(80)\n",
    "print(zoe)"
   ]
  },
  {
   "cell_type": "code",
   "execution_count": 12,
   "metadata": {},
   "outputs": [],
   "source": [
    "def dog_breath(low, high, val):\n",
    "    guess = int((high-low)/2 + low)\n",
    "    if guess==val:\n",
    "        return guess\n",
    "    elif guess < val:\n",
    "        print(guess, low, high, val)\n",
    "        Zoe= dog_breath (guess, high,val)\n",
    "    else:\n",
    "        print(guess, low, high, val)\n",
    "        Zoe= dog_breath (low,guess,val)\n",
    "    return Zoe\n",
    "    "
   ]
  },
  {
   "cell_type": "code",
   "execution_count": 13,
   "metadata": {},
   "outputs": [
    {
     "data": {
      "text/plain": [
       "12.5"
      ]
     },
     "execution_count": 13,
     "metadata": {},
     "output_type": "execute_result"
    }
   ],
   "source": [
    "(100-75)/2"
   ]
  },
  {
   "cell_type": "code",
   "execution_count": 17,
   "metadata": {},
   "outputs": [
    {
     "name": "stdout",
     "output_type": "stream",
     "text": [
      "type in your value: 34\n",
      "34\n"
     ]
    }
   ],
   "source": [
    "foo = input(\"type in your value: \")\n",
    "print(foo)"
   ]
  },
  {
   "cell_type": "code",
   "execution_count": 15,
   "metadata": {
    "scrolled": true
   },
   "outputs": [
    {
     "name": "stdout",
     "output_type": "stream",
     "text": [
      "31 7 56 12\n",
      "19 7 31 12\n",
      "13 7 19 12\n",
      "10 7 13 12\n",
      "11 10 13 12\n",
      " number not valid, I only accept numbers starting from 1\n"
     ]
    }
   ],
   "source": [
    "foo = dog_breath(7,56,12) "
   ]
  },
  {
   "cell_type": "code",
   "execution_count": 16,
   "metadata": {},
   "outputs": [
    {
     "name": "stdout",
     "output_type": "stream",
     "text": [
      "12\n"
     ]
    }
   ],
   "source": [
    "print(foo)"
   ]
  },
  {
   "cell_type": "code",
   "execution_count": 20,
   "metadata": {},
   "outputs": [],
   "source": [
    "def call_dogbreath():\n",
    "    low_val = input(\"Please enter low range, integer: \")\n",
    "    hi_val = input(\"Please enter high range, integer: \")\n",
    "    val = input(\"entre value to guess: \")\n",
    "    foo = dog_breath(int(low_val),int(hi_val),int(val))\n",
    "    print(\"your number was :\", foo)\n",
    "    return foo"
   ]
  },
  {
   "cell_type": "code",
   "execution_count": 21,
   "metadata": {},
   "outputs": [
    {
     "name": "stdout",
     "output_type": "stream",
     "text": [
      "Please enter low range, integer: 4\n",
      "Please enter high range, integer: 1009978\n",
      "entre value to guess: 6789\n",
      "504991 4 1009978 6789\n",
      "252497 4 504991 6789\n",
      "126250 4 252497 6789\n",
      "63127 4 126250 6789\n",
      "31565 4 63127 6789\n",
      "15784 4 31565 6789\n",
      "7894 4 15784 6789\n",
      "3949 4 7894 6789\n",
      "5921 3949 7894 6789\n",
      "6907 5921 7894 6789\n",
      "6414 5921 6907 6789\n",
      "6660 6414 6907 6789\n",
      "6783 6660 6907 6789\n",
      "6845 6783 6907 6789\n",
      "6814 6783 6845 6789\n",
      "6798 6783 6814 6789\n",
      "6790 6783 6798 6789\n",
      "6786 6783 6790 6789\n",
      "6788 6786 6790 6789\n",
      " number not valid, I only accept numbers starting from 1\n",
      "your number was : 6789\n"
     ]
    }
   ],
   "source": [
    "test = call_dogbreath()"
   ]
  },
  {
   "cell_type": "code",
   "execution_count": 28,
   "metadata": {},
   "outputs": [
    {
     "name": "stdout",
     "output_type": "stream",
     "text": [
      "19.94589243691849\n"
     ]
    }
   ],
   "source": [
    "foo = math.log2(1009978)\n",
    "print(foo)"
   ]
  },
  {
   "cell_type": "code",
   "execution_count": null,
   "metadata": {},
   "outputs": [],
   "source": []
  }
 ],
 "metadata": {
  "kernelspec": {
   "display_name": "Python 3",
   "language": "python",
   "name": "python3"
  },
  "language_info": {
   "codemirror_mode": {
    "name": "ipython",
    "version": 3
   },
   "file_extension": ".py",
   "mimetype": "text/x-python",
   "name": "python",
   "nbconvert_exporter": "python",
   "pygments_lexer": "ipython3",
   "version": "3.7.6"
  }
 },
 "nbformat": 4,
 "nbformat_minor": 4
}
